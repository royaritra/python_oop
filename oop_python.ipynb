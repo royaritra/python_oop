{
 "cells": [
  {
   "cell_type": "markdown",
   "source": [
    "OOPS- COrey Schafer\r\n"
   ],
   "metadata": {}
  },
  {
   "cell_type": "markdown",
   "source": [
    "Video -1 Classes and Instances"
   ],
   "metadata": {}
  },
  {
   "cell_type": "code",
   "execution_count": null,
   "source": [
    "class Employee:\r\n",
    "    #pass\r\n",
    "    #edit_1\r\n",
    "    def __init__(self,first,last,pay):\r\n",
    "        self.first=first\r\n",
    "        self.last=last\r\n",
    "        self.pay=pay\r\n",
    "        self.email=first + '.' + last + '@company.com'\r\n",
    "    \r\n",
    "    def fullname(self):\r\n",
    "        return '{} {}'.format(self.first,self.last)"
   ],
   "outputs": [],
   "metadata": {}
  },
  {
   "cell_type": "code",
   "execution_count": null,
   "source": [
    "#instance of class\r\n",
    "emp_1=Employee('Aritra','Roy',50000)\r\n",
    "emp_2=Employee('Anusha','Roy',60000)"
   ],
   "outputs": [],
   "metadata": {}
  },
  {
   "cell_type": "code",
   "execution_count": null,
   "source": [
    "print(emp_1)\r\n",
    "print(emp_2)"
   ],
   "outputs": [],
   "metadata": {}
  },
  {
   "cell_type": "code",
   "execution_count": null,
   "source": [
    "\"\"\" emp_1.first='Aritra'\r\n",
    "emp_1.last='Roy'\r\n",
    "emp_1.email='Aritra.Roy@company.com'\r\n",
    "emp_1.pay=50000\r\n",
    "\r\n",
    "emp_2.first='Anusha'\r\n",
    "emp_2.last='Roy'\r\n",
    "emp_2.email='Anusha.Roy@company.com'\r\n",
    "emp_2.pay=60000 \"\"\""
   ],
   "outputs": [],
   "metadata": {}
  },
  {
   "cell_type": "code",
   "execution_count": null,
   "source": [
    "print(emp_1.email)\r\n",
    "print(emp_2.email)"
   ],
   "outputs": [],
   "metadata": {}
  },
  {
   "cell_type": "code",
   "execution_count": null,
   "source": [
    "print('{} {}'.format(emp_1.first,emp_1.last))\r\n",
    "print(emp_1.fullname())\r\n",
    "print(emp_2.fullname())\r\n",
    "print(Employee.fullname(emp_1))  #note the difference, self is passed automatically in previous cx=case, but here it doesn't know which object it is"
   ],
   "outputs": [],
   "metadata": {}
  },
  {
   "cell_type": "markdown",
   "source": [
    "################################################\r\n",
    "\r\n",
    "Video 2- Class Variables\r\n",
    "\r\n",
    "###############################################\r\n",
    "\r\n",
    "class variables are shared among all instances of the class\r\n",
    "Instance variable are unique for each instances"
   ],
   "metadata": {}
  },
  {
   "cell_type": "code",
   "execution_count": null,
   "source": [
    "class Employee:\r\n",
    "    #pass\r\n",
    "    #edit 2\r\n",
    "    raise_amount=1.04\r\n",
    "    num_of_emps=0\r\n",
    "    #edit_1\r\n",
    "    def __init__(self,first,last,pay):\r\n",
    "        self.first=first\r\n",
    "        self.last=last\r\n",
    "        self.pay=pay\r\n",
    "        self.email=first + '.' + last + '@company.com'\r\n",
    "        Employee.num_of_emps+=1\r\n",
    "    \r\n",
    "    def fullname(self):\r\n",
    "        return '{} {}'.format(self.first,self.last)\r\n",
    "\r\n",
    "    def apply_raise(self):\r\n",
    "        self.pay=int(self.pay*self.raise_amount)\r\n",
    "    \r\n",
    "#instance of class\r\n",
    "emp_1=Employee('Aritra','Roy',50000)\r\n",
    "emp_2=Employee('Anusha','Roy',60000)"
   ],
   "outputs": [],
   "metadata": {}
  },
  {
   "cell_type": "code",
   "execution_count": 9,
   "source": [
    "print(emp_1.pay)\r\n",
    "emp_1.apply_raise()\r\n",
    "print(emp_1.pay)"
   ],
   "outputs": [
    {
     "output_type": "stream",
     "name": "stdout",
     "text": [
      "50000\n",
      "52500\n"
     ]
    }
   ],
   "metadata": {}
  },
  {
   "cell_type": "code",
   "execution_count": 10,
   "source": [
    "print(Employee.raise_amount)\r\n",
    "print(emp_1.raise_amount)\r\n",
    "print(emp_2.raise_amount)"
   ],
   "outputs": [
    {
     "output_type": "stream",
     "name": "stdout",
     "text": [
      "1.05\n",
      "1.05\n",
      "1.05\n"
     ]
    }
   ],
   "metadata": {}
  },
  {
   "cell_type": "code",
   "execution_count": null,
   "source": [
    "print(emp_1.__dict__)"
   ],
   "outputs": [],
   "metadata": {}
  },
  {
   "cell_type": "code",
   "execution_count": null,
   "source": [
    "print(Employee.__dict__)"
   ],
   "outputs": [],
   "metadata": {}
  },
  {
   "cell_type": "code",
   "execution_count": null,
   "source": [
    "Employee.raise_amount=1.05"
   ],
   "outputs": [],
   "metadata": {}
  },
  {
   "cell_type": "code",
   "execution_count": null,
   "source": [
    "print(emp_1.pay)\r\n",
    "emp_1.apply_raise()\r\n",
    "print(emp_1.pay)"
   ],
   "outputs": [],
   "metadata": {}
  },
  {
   "cell_type": "markdown",
   "source": [],
   "metadata": {}
  },
  {
   "cell_type": "code",
   "execution_count": 11,
   "source": [
    "Employee.raise_amount=1.04"
   ],
   "outputs": [],
   "metadata": {}
  },
  {
   "cell_type": "code",
   "execution_count": 12,
   "source": [
    "emp_1.raise_amount=1.05\r\n",
    "print(emp_1.__dict__)\r\n",
    "print(Employee.raise_amount)\r\n",
    "print(emp_1.raise_amount)\r\n",
    "print(emp_2.raise_amount)"
   ],
   "outputs": [
    {
     "output_type": "stream",
     "name": "stdout",
     "text": [
      "{'first': 'Aritra', 'last': 'Roy', 'pay': 52500, 'email': 'Aritra.Roy@company.com', 'raise_amount': 1.05}\n",
      "1.04\n",
      "1.05\n",
      "1.04\n"
     ]
    }
   ],
   "metadata": {}
  },
  {
   "cell_type": "code",
   "execution_count": null,
   "source": [
    "print(Employee.num_of_emps)"
   ],
   "outputs": [],
   "metadata": {}
  },
  {
   "cell_type": "markdown",
   "source": [
    "#########################################\r\n",
    "\r\n",
    "Video 3- CLASS METHOD AND STATIC METHOD\r\n",
    "\r\n",
    "#########################################\r\n",
    "\r\n"
   ],
   "metadata": {}
  },
  {
   "cell_type": "code",
   "execution_count": 1,
   "source": [
    "class Employee:\r\n",
    "    #pass\r\n",
    "    #edit 2\r\n",
    "    raise_amount=1.04\r\n",
    "    num_of_emps=0\r\n",
    "    #edit_1\r\n",
    "    def __init__(self,first,last,pay):\r\n",
    "        self.first=first\r\n",
    "        self.last=last\r\n",
    "        self.pay=pay\r\n",
    "        self.email=first + '.' + last + '@company.com'\r\n",
    "        Employee.num_of_emps+=1\r\n",
    "    \r\n",
    "    def fullname(self):\r\n",
    "        return '{} {}'.format(self.first,self.last)\r\n",
    "\r\n",
    "    def apply_raise(self):\r\n",
    "        self.pay=int(self.pay*self.raise_amount)\r\n",
    "    \r\n",
    "    @classmethod\r\n",
    "    def set_raise_amt(cls, amount):\r\n",
    "        cls.raise_amount=amount\r\n",
    "    \r\n",
    "    #Alternative constructor for string inputs\r\n",
    "\r\n",
    "    @classmethod         \r\n",
    "    def from_string(cls,emp_str):\r\n",
    "        first, last, pay=emp_str.split('-')\r\n",
    "        return cls(first,last,pay)\r\n",
    "    \r\n",
    "    ###STATIC METHOD\r\n",
    "\r\n",
    "    @staticmethod\r\n",
    "    def is_workday(day):\r\n",
    "        if day.weekday()==5 or day.weekday()==6:\r\n",
    "            return False\r\n",
    "        return True\r\n",
    "\r\n",
    "    \r\n",
    "#instance of class\r\n",
    "emp_1=Employee('Aritra','Roy',50000)\r\n",
    "emp_2=Employee('Anusha','Roy',60000)"
   ],
   "outputs": [],
   "metadata": {}
  },
  {
   "cell_type": "code",
   "execution_count": 2,
   "source": [
    "print(Employee.raise_amount)\r\n",
    "print(emp_1.raise_amount)\r\n",
    "print(emp_2.raise_amount)"
   ],
   "outputs": [
    {
     "output_type": "stream",
     "name": "stdout",
     "text": [
      "1.04\n",
      "1.04\n",
      "1.04\n"
     ]
    }
   ],
   "metadata": {}
  },
  {
   "cell_type": "code",
   "execution_count": 5,
   "source": [
    "Employee.set_raise_amt(1.05)   ##== Employee.raise_amount=1.05"
   ],
   "outputs": [],
   "metadata": {}
  },
  {
   "cell_type": "code",
   "execution_count": 6,
   "source": [
    "print(Employee.raise_amount)\r\n",
    "print(emp_1.raise_amount)\r\n",
    "print(emp_2.raise_amount)"
   ],
   "outputs": [
    {
     "output_type": "stream",
     "name": "stdout",
     "text": [
      "1.04\n",
      "1.04\n",
      "1.04\n"
     ]
    }
   ],
   "metadata": {}
  },
  {
   "cell_type": "code",
   "execution_count": 7,
   "source": [
    "emp_1.set_raise_amt(1.05)"
   ],
   "outputs": [],
   "metadata": {}
  },
  {
   "cell_type": "code",
   "execution_count": 8,
   "source": [
    "print(Employee.raise_amount)\r\n",
    "print(emp_1.raise_amount)\r\n",
    "print(emp_2.raise_amount)"
   ],
   "outputs": [
    {
     "output_type": "stream",
     "name": "stdout",
     "text": [
      "1.05\n",
      "1.05\n",
      "1.05\n"
     ]
    }
   ],
   "metadata": {}
  },
  {
   "cell_type": "markdown",
   "source": [
    "Suppose we get employee details in following hyphen separated string ,"
   ],
   "metadata": {}
  },
  {
   "cell_type": "code",
   "execution_count": 53,
   "source": [
    "emp_str_1 = 'John-Doe-70000'\r\n",
    "emp_str_2 = 'Steve-Smith-30000'\r\n",
    "emp_str_3 = 'Jane-Doe-90000'\r\n"
   ],
   "outputs": [],
   "metadata": {}
  },
  {
   "cell_type": "code",
   "execution_count": 54,
   "source": [
    "new_emp_1=Employee.from_string(emp_str_1)"
   ],
   "outputs": [],
   "metadata": {}
  },
  {
   "cell_type": "code",
   "execution_count": 55,
   "source": [
    "print(new_emp_1.email)\r\n",
    "print(new_emp_1.pay)"
   ],
   "outputs": [
    {
     "output_type": "stream",
     "name": "stdout",
     "text": [
      "John.Doe@company.com\n",
      "70000\n"
     ]
    }
   ],
   "metadata": {}
  },
  {
   "cell_type": "markdown",
   "source": [
    "#####################\r\n",
    "\r\n",
    "STATIC METHOD"
   ],
   "metadata": {}
  },
  {
   "cell_type": "code",
   "execution_count": 13,
   "source": [
    "class Employee:\r\n",
    "    #pass\r\n",
    "    #edit 2\r\n",
    "    raise_amount=1.04\r\n",
    "    num_of_emps=0\r\n",
    "    #edit_1\r\n",
    "    def __init__(self,first,last,pay):\r\n",
    "        self.first=first\r\n",
    "        self.last=last\r\n",
    "        self.pay=pay\r\n",
    "        self.email=first + '.' + last + '@company.com'\r\n",
    "        Employee.num_of_emps+=1\r\n",
    "    \r\n",
    "    def fullname(self):\r\n",
    "        return '{} {}'.format(self.first,self.last)\r\n",
    "\r\n",
    "    def apply_raise(self):\r\n",
    "        self.pay=int(self.pay*self.raise_amount)\r\n",
    "    \r\n",
    "    @classmethod\r\n",
    "    def set_raise_amt(cls, amount):\r\n",
    "        cls.raise_amount=amount\r\n",
    "    \r\n",
    "    #Alternative constructor for string inputs\r\n",
    "\r\n",
    "    @classmethod         \r\n",
    "    def from_string(cls,emp_str):\r\n",
    "        first, last, pay=emp_str.split('-')\r\n",
    "        return cls(first,last,pay)\r\n",
    "    \r\n",
    "    ###STATIC METHOD\r\n",
    "\r\n",
    "    @staticmethod\r\n",
    "    def is_workday(day):\r\n",
    "        if day.weekday()==5 or day.weekday()==6:\r\n",
    "            return False\r\n",
    "        return True\r\n",
    "\r\n",
    "    \r\n",
    "#instance of class\r\n",
    "emp_1=Employee('Aritra','Roy',50000)\r\n",
    "emp_2=Employee('Anusha','Roy',60000)"
   ],
   "outputs": [],
   "metadata": {}
  },
  {
   "cell_type": "code",
   "execution_count": 14,
   "source": [
    "import datetime\r\n",
    "my_date = datetime.date(2016, 7, 11)\r\n",
    "\r\n",
    "print(Employee.is_workday(my_date))"
   ],
   "outputs": [
    {
     "output_type": "stream",
     "name": "stdout",
     "text": [
      "True\n"
     ]
    }
   ],
   "metadata": {}
  },
  {
   "cell_type": "markdown",
   "source": [
    "############################\r\n",
    "\r\n",
    "VIDEO 4: Inheritance\r\n",
    "\r\n",
    "#############################"
   ],
   "metadata": {}
  },
  {
   "cell_type": "code",
   "execution_count": 24,
   "source": [
    "class Employee:\r\n",
    "    #pass\r\n",
    "    raise_amt=1.04\r\n",
    "    \r\n",
    "    #edit_1\r\n",
    "    def __init__(self,first,last,pay):\r\n",
    "        self.first=first\r\n",
    "        self.last=last\r\n",
    "        self.pay=pay\r\n",
    "        self.email=first + '.' + last + '@company.com'\r\n",
    "        \r\n",
    "    \r\n",
    "    def fullname(self):\r\n",
    "        return '{} {}'.format(self.first,self.last)\r\n",
    "\r\n",
    "    def apply_raise(self):\r\n",
    "        self.pay=int(self.pay*self.raise_amt)\r\n",
    "\r\n",
    "##SUBCLASS\r\n",
    "# Chain of inheritance== Method of resolution\r\n",
    "class Developer(Employee):  ###INherits from employee class\r\n",
    "    #pass\r\n",
    "    raise_amt=1.10\r\n",
    "\r\n",
    "dev_1=Developer('Aritra','Roy',50000)\r\n",
    "dev_2=Developer('Anusha','Roy',60000)"
   ],
   "outputs": [],
   "metadata": {}
  },
  {
   "cell_type": "code",
   "execution_count": 19,
   "source": [
    "print(dev_1.email)\r\n",
    "print(dev_2.email)"
   ],
   "outputs": [
    {
     "output_type": "stream",
     "name": "stdout",
     "text": [
      "Aritra.Roy@company.com\n",
      "Anusha.Roy@company.com\n"
     ]
    }
   ],
   "metadata": {}
  },
  {
   "cell_type": "code",
   "execution_count": 22,
   "source": [
    "print(help(Developer))      #To check method resoultion"
   ],
   "outputs": [
    {
     "output_type": "stream",
     "name": "stdout",
     "text": [
      "Help on class Developer in module __main__:\n",
      "\n",
      "class Developer(Employee)\n",
      " |  Developer(first, last, pay)\n",
      " |  \n",
      " |  Method resolution order:\n",
      " |      Developer\n",
      " |      Employee\n",
      " |      builtins.object\n",
      " |  \n",
      " |  Methods inherited from Employee:\n",
      " |  \n",
      " |  __init__(self, first, last, pay)\n",
      " |      Initialize self.  See help(type(self)) for accurate signature.\n",
      " |  \n",
      " |  apply_raise(self)\n",
      " |  \n",
      " |  fullname(self)\n",
      " |  \n",
      " |  ----------------------------------------------------------------------\n",
      " |  Data descriptors inherited from Employee:\n",
      " |  \n",
      " |  __dict__\n",
      " |      dictionary for instance variables (if defined)\n",
      " |  \n",
      " |  __weakref__\n",
      " |      list of weak references to the object (if defined)\n",
      " |  \n",
      " |  ----------------------------------------------------------------------\n",
      " |  Data and other attributes inherited from Employee:\n",
      " |  \n",
      " |  raise_amt = 1.04\n",
      "\n",
      "None\n"
     ]
    }
   ],
   "metadata": {}
  },
  {
   "cell_type": "code",
   "execution_count": 26,
   "source": [
    "print(dev_1.pay)\r\n",
    "dev_1.apply_raise()\r\n",
    "print(dev_1.pay)\r\n",
    "print(Employee.raise_amt)"
   ],
   "outputs": [
    {
     "output_type": "stream",
     "name": "stdout",
     "text": [
      "55000\n",
      "60500\n",
      "1.04\n"
     ]
    }
   ],
   "metadata": {}
  },
  {
   "cell_type": "code",
   "execution_count": 27,
   "source": [
    "class Employee:\r\n",
    "    #pass\r\n",
    "    raise_amt=1.04\r\n",
    "    \r\n",
    "    #edit_1\r\n",
    "    def __init__(self,first,last,pay):\r\n",
    "        self.first=first\r\n",
    "        self.last=last\r\n",
    "        self.pay=pay\r\n",
    "        self.email=first + '.' + last + '@company.com'\r\n",
    "        \r\n",
    "    \r\n",
    "    def fullname(self):\r\n",
    "        return '{} {}'.format(self.first,self.last)\r\n",
    "\r\n",
    "    def apply_raise(self):\r\n",
    "        self.pay=int(self.pay*self.raise_amt)\r\n",
    "\r\n",
    "##SUBCLASS\r\n",
    "# Chain of inheritance== Method of resolution\r\n",
    "class Developer(Employee):  ###INherits from employee class\r\n",
    "    #pass\r\n",
    "    raise_amt=1.10\r\n",
    "    ##new __init__ to add additional feature in our subclass\r\n",
    "    def __init__(self, first, last, pay, prog_lang):\r\n",
    "        super().__init__(first, last, pay)      #letting our employee __init__ to handel first, last and pay\r\n",
    "        \r\n",
    "        ## Alternatively, Employee().__init__(self, first, last, pay)\r\n",
    "        \r\n",
    "        self.prog_lang=prog_lang    #additional in subclass\r\n",
    "\r\n",
    "\r\n",
    "\r\n",
    "dev_1=Developer('Aritra','Roy',50000,'Python')\r\n",
    "dev_2=Developer('Anusha','Roy',60000,'Java')"
   ],
   "outputs": [],
   "metadata": {}
  },
  {
   "cell_type": "code",
   "execution_count": 28,
   "source": [
    "print(dev_1.email)\r\n",
    "print(dev_1.prog_lang)"
   ],
   "outputs": [
    {
     "output_type": "stream",
     "name": "stdout",
     "text": [
      "Aritra.Roy@company.com\n",
      "Python\n"
     ]
    }
   ],
   "metadata": {}
  },
  {
   "cell_type": "code",
   "execution_count": 30,
   "source": [
    "print(dev_1.__dict__)"
   ],
   "outputs": [
    {
     "output_type": "stream",
     "name": "stdout",
     "text": [
      "{'first': 'Aritra', 'last': 'Roy', 'pay': 50000, 'email': 'Aritra.Roy@company.com', 'prog_lang': 'Python'}\n"
     ]
    }
   ],
   "metadata": {}
  },
  {
   "cell_type": "markdown",
   "source": [
    "################\r\n",
    "Adding another subclass Manager\r\n",
    "#################"
   ],
   "metadata": {}
  },
  {
   "cell_type": "code",
   "execution_count": 65,
   "source": [
    "class Employee:\r\n",
    "    #pass\r\n",
    "    raise_amt=1.04\r\n",
    "    \r\n",
    "    #edit_1\r\n",
    "    def __init__(self,first,last,pay):\r\n",
    "        self.first=first\r\n",
    "        self.last=last\r\n",
    "        self.pay=pay\r\n",
    "        self.email=first + '.' + last + '@company.com'\r\n",
    "        \r\n",
    "    \r\n",
    "    def fullname(self):\r\n",
    "        return '{} {}'.format(self.first,self.last)\r\n",
    "\r\n",
    "    def apply_raise(self):\r\n",
    "        self.pay=int(self.pay*self.raise_amt)\r\n",
    "\r\n",
    "##SUBCLASS\r\n",
    "# Chain of inheritance== Method of resolution\r\n",
    "\r\n",
    "\r\n",
    "class Developer(Employee):  ###INherits from employee class\r\n",
    "    #pass\r\n",
    "    raise_amt=1.10\r\n",
    "    ##new __init__ to add additional feature in our subclass\r\n",
    "    def __init__(self, first, last, pay, prog_lang):\r\n",
    "        super().__init__(first, last, pay)      #letting our employee __init__ to handel first, last and pay\r\n",
    "        \r\n",
    "        ## Alternatively, Employee().__init__(self, first, last, pay)\r\n",
    "        \r\n",
    "        self.prog_lang=prog_lang    #additional in subclass\r\n",
    "\r\n",
    "class Manager(Employee):\r\n",
    "    def __init__(self, first, last, pay, employees=None):\r\n",
    "        super().__init__(first, last, pay)\r\n",
    "        if employees is None:\r\n",
    "            self.employees=[]\r\n",
    "        else:\r\n",
    "            self.employees=employees\r\n",
    "    \r\n",
    "    def add_employee(self,emp):\r\n",
    "        if emp not in self.employees:\r\n",
    "            self.employees.append(emp)\r\n",
    "    \r\n",
    "    def remove_employee(self,emp):\r\n",
    "        if emp in self.employees:\r\n",
    "            self.employees.remove(emp)\r\n",
    "    \r\n",
    "    def print_employee(self):\r\n",
    "        for emp in self.employees:\r\n",
    "            print('-->',emp.fullname())\r\n",
    "\r\n",
    "\r\n",
    "\r\n",
    "dev_1=Developer('Aritra','Roy',50000,'Python')\r\n",
    "dev_2=Developer('Anusha','Roy',60000,'Java')\r\n",
    "\r\n",
    "mgr_1=Manager('Sue','Smith',90000,[dev_1])"
   ],
   "outputs": [],
   "metadata": {}
  },
  {
   "cell_type": "code",
   "execution_count": 66,
   "source": [
    "print(mgr_1.email)"
   ],
   "outputs": [
    {
     "output_type": "stream",
     "name": "stdout",
     "text": [
      "Sue.Smith@company.com\n"
     ]
    }
   ],
   "metadata": {}
  },
  {
   "cell_type": "code",
   "execution_count": 67,
   "source": [
    "print(mgr_1.print_employee())"
   ],
   "outputs": [
    {
     "output_type": "stream",
     "name": "stdout",
     "text": [
      "--> Aritra Roy\n",
      "None\n"
     ]
    }
   ],
   "metadata": {}
  },
  {
   "cell_type": "code",
   "execution_count": 61,
   "source": [
    "mgr_1.add_employee(dev_2)"
   ],
   "outputs": [],
   "metadata": {}
  },
  {
   "cell_type": "code",
   "execution_count": 62,
   "source": [
    "print(mgr_1.print_employee())"
   ],
   "outputs": [
    {
     "output_type": "stream",
     "name": "stdout",
     "text": [
      "--> Aritra Roy\n",
      "--> Anusha Roy\n",
      "None\n"
     ]
    }
   ],
   "metadata": {}
  },
  {
   "cell_type": "code",
   "execution_count": 63,
   "source": [
    "mgr_1.remove_employee(dev_2)\r\n"
   ],
   "outputs": [],
   "metadata": {}
  },
  {
   "cell_type": "code",
   "execution_count": 64,
   "source": [
    "print(mgr_1.print_employee())"
   ],
   "outputs": [
    {
     "output_type": "stream",
     "name": "stdout",
     "text": [
      "--> Aritra Roy\n",
      "None\n"
     ]
    }
   ],
   "metadata": {}
  },
  {
   "cell_type": "code",
   "execution_count": 68,
   "source": [
    "print(isinstance(mgr_1,Manager))"
   ],
   "outputs": [
    {
     "output_type": "stream",
     "name": "stdout",
     "text": [
      "True\n"
     ]
    }
   ],
   "metadata": {}
  },
  {
   "cell_type": "code",
   "execution_count": 69,
   "source": [
    "print(isinstance(mgr_1,Employee))"
   ],
   "outputs": [
    {
     "output_type": "stream",
     "name": "stdout",
     "text": [
      "True\n"
     ]
    }
   ],
   "metadata": {}
  },
  {
   "cell_type": "code",
   "execution_count": 70,
   "source": [
    "print(isinstance(mgr_1,Developer))"
   ],
   "outputs": [
    {
     "output_type": "stream",
     "name": "stdout",
     "text": [
      "False\n"
     ]
    }
   ],
   "metadata": {}
  },
  {
   "cell_type": "code",
   "execution_count": 72,
   "source": [
    "print(issubclass(Manager,Employee))"
   ],
   "outputs": [
    {
     "output_type": "stream",
     "name": "stdout",
     "text": [
      "True\n"
     ]
    }
   ],
   "metadata": {}
  },
  {
   "cell_type": "markdown",
   "source": [
    "##################\r\n",
    "Video -5 Magic/DAnder method\r\n",
    "##################\r\n",
    " Used for operator overloading\r\n",
    "\r\n",
    "__init__ = dunder init\r\n"
   ],
   "metadata": {}
  },
  {
   "cell_type": "code",
   "execution_count": 88,
   "source": [
    "class Employee:\r\n",
    "    #pass\r\n",
    "    raise_amt=1.04\r\n",
    "    \r\n",
    "    #edit_1\r\n",
    "    def __init__(self,first,last,pay):\r\n",
    "        self.first=first\r\n",
    "        self.last=last\r\n",
    "        self.pay=pay\r\n",
    "        self.email=first + '.' + last + '@company.com'\r\n",
    "        \r\n",
    "    \r\n",
    "    def fullname(self):\r\n",
    "        return '{} {}'.format(self.first,self.last)\r\n",
    "\r\n",
    "    def apply_raise(self):\r\n",
    "        self.pay=int(self.pay*self.raise_amt)\r\n",
    "\r\n",
    "    def __repr__(self):\r\n",
    "        return \"Employee('{}','{}','{})\".format(self.first,self.last,self.pay)\r\n",
    "\r\n",
    "    def __str__(self):\r\n",
    "        return '{} - {}'.format(self.fullname(),self.email)\r\n",
    "\r\n",
    "\r\n",
    "emp_1=Employee('Aritra','Roy',50000)\r\n",
    "emp_2=Employee('Anusha','Roy',60000)"
   ],
   "outputs": [],
   "metadata": {}
  },
  {
   "cell_type": "code",
   "execution_count": 78,
   "source": [
    "print(emp_1)"
   ],
   "outputs": [
    {
     "output_type": "stream",
     "name": "stdout",
     "text": [
      "Aritra Roy - Aritra.Roy@company.com\n"
     ]
    }
   ],
   "metadata": {}
  },
  {
   "cell_type": "code",
   "execution_count": 79,
   "source": [
    "print(repr(emp_1))\r\n",
    "print(str(emp_1))"
   ],
   "outputs": [
    {
     "output_type": "stream",
     "name": "stdout",
     "text": [
      "Employee('Aritra','Roy','50000)\n",
      "Aritra Roy - Aritra.Roy@company.com\n"
     ]
    }
   ],
   "metadata": {}
  },
  {
   "cell_type": "code",
   "execution_count": 80,
   "source": [
    "print(emp_1.__repr__())\r\n",
    "print(emp_1.__str__())"
   ],
   "outputs": [
    {
     "output_type": "stream",
     "name": "stdout",
     "text": [
      "Employee('Aritra','Roy','50000)\n",
      "Aritra Roy - Aritra.Roy@company.com\n"
     ]
    }
   ],
   "metadata": {}
  },
  {
   "cell_type": "code",
   "execution_count": 81,
   "source": [
    "print(int.__add__(2,3))"
   ],
   "outputs": [
    {
     "output_type": "stream",
     "name": "stdout",
     "text": [
      "5\n"
     ]
    }
   ],
   "metadata": {}
  },
  {
   "cell_type": "code",
   "execution_count": 82,
   "source": [
    "print(str.__add__('a','b'))"
   ],
   "outputs": [
    {
     "output_type": "stream",
     "name": "stdout",
     "text": [
      "ab\n"
     ]
    }
   ],
   "metadata": {}
  },
  {
   "cell_type": "code",
   "execution_count": 89,
   "source": [
    "print(emp_1+emp_2)"
   ],
   "outputs": [
    {
     "output_type": "error",
     "ename": "TypeError",
     "evalue": "unsupported operand type(s) for +: 'Employee' and 'Employee'",
     "traceback": [
      "\u001b[1;31m---------------------------------------------------------------------------\u001b[0m",
      "\u001b[1;31mTypeError\u001b[0m                                 Traceback (most recent call last)",
      "\u001b[1;32m~\\AppData\\Local\\Temp/ipykernel_2764/553414919.py\u001b[0m in \u001b[0;36m<module>\u001b[1;34m\u001b[0m\n\u001b[1;32m----> 1\u001b[1;33m \u001b[0mprint\u001b[0m\u001b[1;33m(\u001b[0m\u001b[0memp_1\u001b[0m\u001b[1;33m+\u001b[0m\u001b[0memp_2\u001b[0m\u001b[1;33m)\u001b[0m\u001b[1;33m\u001b[0m\u001b[1;33m\u001b[0m\u001b[0m\n\u001b[0m",
      "\u001b[1;31mTypeError\u001b[0m: unsupported operand type(s) for +: 'Employee' and 'Employee'"
     ]
    }
   ],
   "metadata": {}
  },
  {
   "cell_type": "markdown",
   "source": [
    "Doesn't work,\r\n",
    "    ##If we want to add two employees and in return we want to get addition of salaries, we need to create a new dander add merthod\r\n"
   ],
   "metadata": {}
  },
  {
   "cell_type": "code",
   "execution_count": 86,
   "source": [
    "class Employee:\r\n",
    "    #pass\r\n",
    "    raise_amt=1.04\r\n",
    "    \r\n",
    "    #edit_1\r\n",
    "    def __init__(self,first,last,pay):\r\n",
    "        self.first=first\r\n",
    "        self.last=last\r\n",
    "        self.pay=pay\r\n",
    "        self.email=first + '.' + last + '@company.com'\r\n",
    "        \r\n",
    "    \r\n",
    "    def fullname(self):\r\n",
    "        return '{} {}'.format(self.first,self.last)\r\n",
    "\r\n",
    "    def apply_raise(self):\r\n",
    "        self.pay=int(self.pay*self.raise_amt)\r\n",
    "\r\n",
    "    def __repr__(self):\r\n",
    "        return \"Employee('{}','{}','{})\".format(self.first,self.last,self.pay)\r\n",
    "\r\n",
    "    def __str__(self):\r\n",
    "        return '{} - {}'.format(self.fullname(),self.email)\r\n",
    "    \r\n",
    "    ##If we want to add two employees and in return we want to get addition of salaries, we need to create a new dander add merthod\r\n",
    "    def __add__(self,other):\r\n",
    "        return self.pay+ other.pay\r\n",
    "\r\n",
    "emp_1=Employee('Aritra','Roy',50000)\r\n",
    "emp_2=Employee('Anusha','Roy',60000)"
   ],
   "outputs": [],
   "metadata": {}
  },
  {
   "cell_type": "code",
   "execution_count": 87,
   "source": [
    "print(emp_1+emp_2)"
   ],
   "outputs": [
    {
     "output_type": "stream",
     "name": "stdout",
     "text": [
      "110000\n"
     ]
    }
   ],
   "metadata": {}
  },
  {
   "cell_type": "code",
   "execution_count": 90,
   "source": [
    "print(len('test'))"
   ],
   "outputs": [
    {
     "output_type": "stream",
     "name": "stdout",
     "text": [
      "4\n"
     ]
    }
   ],
   "metadata": {}
  },
  {
   "cell_type": "code",
   "execution_count": 92,
   "source": [
    "print('test'.__len__())  ##Special dander len method for returning length\r\n",
    "\r\n",
    "# We can modify in our instance, suppose, we want it to return total character and full name"
   ],
   "outputs": [
    {
     "output_type": "stream",
     "name": "stdout",
     "text": [
      "4\n"
     ]
    }
   ],
   "metadata": {}
  },
  {
   "cell_type": "code",
   "execution_count": 93,
   "source": [
    "len(emp_1)"
   ],
   "outputs": [
    {
     "output_type": "error",
     "ename": "TypeError",
     "evalue": "object of type 'Employee' has no len()",
     "traceback": [
      "\u001b[1;31m---------------------------------------------------------------------------\u001b[0m",
      "\u001b[1;31mTypeError\u001b[0m                                 Traceback (most recent call last)",
      "\u001b[1;32m~\\AppData\\Local\\Temp/ipykernel_2764/3984568889.py\u001b[0m in \u001b[0;36m<module>\u001b[1;34m\u001b[0m\n\u001b[1;32m----> 1\u001b[1;33m \u001b[0mlen\u001b[0m\u001b[1;33m(\u001b[0m\u001b[0memp_1\u001b[0m\u001b[1;33m)\u001b[0m\u001b[1;33m\u001b[0m\u001b[1;33m\u001b[0m\u001b[0m\n\u001b[0m",
      "\u001b[1;31mTypeError\u001b[0m: object of type 'Employee' has no len()"
     ]
    }
   ],
   "metadata": {}
  },
  {
   "cell_type": "markdown",
   "source": [
    "Returns error\r\n",
    "\r\n",
    "# We can modify in our instance, suppose, we want it to return total character of full name"
   ],
   "metadata": {}
  },
  {
   "cell_type": "code",
   "execution_count": 94,
   "source": [
    "class Employee:\r\n",
    "    #pass\r\n",
    "    raise_amt=1.04\r\n",
    "    \r\n",
    "    #edit_1\r\n",
    "    def __init__(self,first,last,pay):\r\n",
    "        self.first=first\r\n",
    "        self.last=last\r\n",
    "        self.pay=pay\r\n",
    "        self.email=first + '.' + last + '@company.com'\r\n",
    "        \r\n",
    "    \r\n",
    "    def fullname(self):\r\n",
    "        return '{} {}'.format(self.first,self.last)\r\n",
    "\r\n",
    "    def apply_raise(self):\r\n",
    "        self.pay=int(self.pay*self.raise_amt)\r\n",
    "\r\n",
    "    def __repr__(self):\r\n",
    "        return \"Employee('{}','{}','{})\".format(self.first,self.last,self.pay)\r\n",
    "\r\n",
    "    def __str__(self):\r\n",
    "        return '{} - {}'.format(self.fullname(),self.email)\r\n",
    "    \r\n",
    "    ##If we want to add two employees and in return we want to get addition of salaries, we need to create a new dander add merthod\r\n",
    "    def __add__(self,other):\r\n",
    "        return self.pay+ other.pay\r\n",
    "    \r\n",
    "    def __len__(self):\r\n",
    "        return(len(self.fullname()))\r\n",
    "\r\n",
    "emp_1=Employee('Aritra','Roy',50000)\r\n",
    "emp_2=Employee('Anusha','Roy',60000)"
   ],
   "outputs": [],
   "metadata": {}
  },
  {
   "cell_type": "code",
   "execution_count": 95,
   "source": [
    "print(len(emp_1))"
   ],
   "outputs": [
    {
     "output_type": "stream",
     "name": "stdout",
     "text": [
      "10\n"
     ]
    }
   ],
   "metadata": {}
  },
  {
   "cell_type": "markdown",
   "source": [
    "####################\r\n",
    "\r\n",
    "VIDEO 6: Property Decorator, getter, setter, deleter\r\n",
    "\r\n",
    "#######################"
   ],
   "metadata": {}
  },
  {
   "cell_type": "code",
   "execution_count": 96,
   "source": [
    "class Employee:\r\n",
    "    #pass\r\n",
    "    \r\n",
    "    #edit_1\r\n",
    "    def __init__(self,first,last):\r\n",
    "        self.first=first\r\n",
    "        self.last=last\r\n",
    "        self.email=first + '.' + last + '@company.com'\r\n",
    "        \r\n",
    "    \r\n",
    "    def fullname(self):\r\n",
    "        return '{} {}'.format(self.first,self.last)\r\n",
    "\r\n",
    "\r\n",
    "emp_1=Employee('Aritra','Roy')\r\n"
   ],
   "outputs": [],
   "metadata": {}
  },
  {
   "cell_type": "code",
   "execution_count": 98,
   "source": [
    "print(emp_1.first)\r\n",
    "print(emp_1.email)\r\n",
    "print(emp_1.fullname())"
   ],
   "outputs": [
    {
     "output_type": "stream",
     "name": "stdout",
     "text": [
      "Aritra\n",
      "Aritra.Roy@company.com\n",
      "Aritra Roy\n"
     ]
    }
   ],
   "metadata": {}
  },
  {
   "cell_type": "code",
   "execution_count": 99,
   "source": [
    "emp_1.first='Jim'"
   ],
   "outputs": [],
   "metadata": {}
  },
  {
   "cell_type": "code",
   "execution_count": 100,
   "source": [
    "print(emp_1.first)\r\n",
    "print(emp_1.email)\r\n",
    "print(emp_1.fullname())"
   ],
   "outputs": [
    {
     "output_type": "stream",
     "name": "stdout",
     "text": [
      "Jim\n",
      "Aritra.Roy@company.com\n",
      "Jim Roy\n"
     ]
    }
   ],
   "metadata": {}
  },
  {
   "cell_type": "markdown",
   "source": [
    "Though the 1st name is changed, but email is being the same, but fullname() is modiied correctly"
   ],
   "metadata": {}
  },
  {
   "cell_type": "code",
   "execution_count": 101,
   "source": [
    "class Employee:\r\n",
    "    #pass\r\n",
    "    \r\n",
    "    #edit_1\r\n",
    "    def __init__(self,first,last):\r\n",
    "        self.first=first\r\n",
    "        self.last=last\r\n",
    "        \r\n",
    "    \r\n",
    "    def email(self):  \r\n",
    "        return '{}.{}@company.com'.format(self.first,self.last)\r\n",
    "\r\n",
    "    \r\n",
    "    \r\n",
    "    def fullname(self):\r\n",
    "        return '{} {}'.format(self.first,self.last)\r\n",
    "\r\n",
    "\r\n",
    "emp_1=Employee('Aritra','Roy')\r\n"
   ],
   "outputs": [],
   "metadata": {}
  },
  {
   "cell_type": "code",
   "execution_count": 103,
   "source": [
    "emp_1.first='Jim'\r\n",
    "print(emp_1.first)\r\n",
    "print(emp_1.email())\r\n",
    "print(emp_1.fullname())"
   ],
   "outputs": [
    {
     "output_type": "stream",
     "name": "stdout",
     "text": [
      "Jim\n",
      "Jim.Roy@company.com\n",
      "Jim Roy\n"
     ]
    }
   ],
   "metadata": {}
  },
  {
   "cell_type": "markdown",
   "source": [
    "Though this solves our problem, but we need to change every email attribute to email method.\r\n",
    "\r\n",
    "Property decorator comes handy here"
   ],
   "metadata": {}
  },
  {
   "cell_type": "code",
   "execution_count": 107,
   "source": [
    "class Employee:\r\n",
    "    #pass\r\n",
    "    \r\n",
    "    #edit_1\r\n",
    "    def __init__(self,first,last):\r\n",
    "        self.first=first\r\n",
    "        self.last=last\r\n",
    "        \r\n",
    "    @property       #property decorator\r\n",
    "    def email(self):  \r\n",
    "        return '{}.{}@company.com'.format(self.first,self.last)\r\n",
    "\r\n",
    "    \r\n",
    "    @property\r\n",
    "    def fullname(self):       #property decorator\r\n",
    "        return '{} {}'.format(self.first,self.last)\r\n",
    "\r\n",
    "\r\n",
    "emp_1=Employee('Aritra','Roy')\r\n"
   ],
   "outputs": [],
   "metadata": {}
  },
  {
   "cell_type": "code",
   "execution_count": 108,
   "source": [
    "print(emp_1.email)\r\n",
    "print(emp_1.fullname)"
   ],
   "outputs": [
    {
     "output_type": "stream",
     "name": "stdout",
     "text": [
      "Aritra.Roy@company.com\n",
      "Aritra Roy\n"
     ]
    }
   ],
   "metadata": {}
  },
  {
   "cell_type": "markdown",
   "source": [
    "Now look, both email method and full name method can be accesed like attributes"
   ],
   "metadata": {}
  },
  {
   "cell_type": "code",
   "execution_count": 109,
   "source": [
    "emp_1.fullname='Corey Schafer'"
   ],
   "outputs": [
    {
     "output_type": "error",
     "ename": "AttributeError",
     "evalue": "can't set attribute",
     "traceback": [
      "\u001b[1;31m---------------------------------------------------------------------------\u001b[0m",
      "\u001b[1;31mAttributeError\u001b[0m                            Traceback (most recent call last)",
      "\u001b[1;32m~\\AppData\\Local\\Temp/ipykernel_2764/1388137352.py\u001b[0m in \u001b[0;36m<module>\u001b[1;34m\u001b[0m\n\u001b[1;32m----> 1\u001b[1;33m \u001b[0memp_1\u001b[0m\u001b[1;33m.\u001b[0m\u001b[0mfullname\u001b[0m\u001b[1;33m=\u001b[0m\u001b[1;34m'Corey Schafer'\u001b[0m\u001b[1;33m\u001b[0m\u001b[1;33m\u001b[0m\u001b[0m\n\u001b[0m",
      "\u001b[1;31mAttributeError\u001b[0m: can't set attribute"
     ]
    }
   ],
   "metadata": {}
  },
  {
   "cell_type": "markdown",
   "source": [
    "Now, setter can help to solve this"
   ],
   "metadata": {}
  },
  {
   "cell_type": "code",
   "execution_count": 110,
   "source": [
    "class Employee:\r\n",
    "    #pass\r\n",
    "    \r\n",
    "    #edit_1\r\n",
    "    def __init__(self,first,last):\r\n",
    "        self.first=first\r\n",
    "        self.last=last\r\n",
    "        \r\n",
    "    @property       #property decorator\r\n",
    "    def email(self):  \r\n",
    "        return '{}.{}@company.com'.format(self.first,self.last)\r\n",
    "\r\n",
    "    \r\n",
    "    @property\r\n",
    "    def fullname(self):       #property decorator\r\n",
    "        return '{} {}'.format(self.first,self.last)\r\n",
    "    \r\n",
    "    @fullname.setter\r\n",
    "    def fullname(self,name):\r\n",
    "        first, last=name.split(' ')\r\n",
    "        self.first=first\r\n",
    "        self.last=last\r\n",
    "\r\n",
    "emp_1=Employee('Aritra','Roy')\r\n"
   ],
   "outputs": [],
   "metadata": {}
  },
  {
   "cell_type": "code",
   "execution_count": 111,
   "source": [
    "emp_1.fullname='Corey Schafer'"
   ],
   "outputs": [],
   "metadata": {}
  },
  {
   "cell_type": "code",
   "execution_count": 112,
   "source": [
    "print(emp_1.email)\r\n",
    "print(emp_1.fullname)"
   ],
   "outputs": [
    {
     "output_type": "stream",
     "name": "stdout",
     "text": [
      "Corey.Schafer@company.com\n",
      "Corey Schafer\n"
     ]
    }
   ],
   "metadata": {}
  },
  {
   "cell_type": "code",
   "execution_count": 113,
   "source": [
    "del emp_1.fullname"
   ],
   "outputs": [
    {
     "output_type": "error",
     "ename": "AttributeError",
     "evalue": "can't delete attribute",
     "traceback": [
      "\u001b[1;31m---------------------------------------------------------------------------\u001b[0m",
      "\u001b[1;31mAttributeError\u001b[0m                            Traceback (most recent call last)",
      "\u001b[1;32m~\\AppData\\Local\\Temp/ipykernel_2764/1786447026.py\u001b[0m in \u001b[0;36m<module>\u001b[1;34m\u001b[0m\n\u001b[1;32m----> 1\u001b[1;33m \u001b[1;32mdel\u001b[0m \u001b[0memp_1\u001b[0m\u001b[1;33m.\u001b[0m\u001b[0mfullname\u001b[0m\u001b[1;33m\u001b[0m\u001b[1;33m\u001b[0m\u001b[0m\n\u001b[0m",
      "\u001b[1;31mAttributeError\u001b[0m: can't delete attribute"
     ]
    }
   ],
   "metadata": {}
  },
  {
   "cell_type": "markdown",
   "source": [
    "#DELETER helps to fix this"
   ],
   "metadata": {}
  },
  {
   "cell_type": "code",
   "execution_count": 116,
   "source": [
    "class Employee:\r\n",
    "    #pass\r\n",
    "    \r\n",
    "    #edit_1\r\n",
    "    def __init__(self,first,last):\r\n",
    "        self.first=first\r\n",
    "        self.last=last\r\n",
    "        \r\n",
    "    @property       #property decorator\r\n",
    "    def email(self):  \r\n",
    "        return '{}.{}@company.com'.format(self.first,self.last)\r\n",
    "\r\n",
    "    \r\n",
    "    @property\r\n",
    "    def fullname(self):       #property decorator\r\n",
    "        return '{} {}'.format(self.first,self.last)\r\n",
    "    \r\n",
    "    @fullname.setter\r\n",
    "    def fullname(self,name):\r\n",
    "        first, last=name.split(' ')\r\n",
    "        self.first=first\r\n",
    "        self.last=last\r\n",
    "    \r\n",
    "    @fullname.deleter\r\n",
    "    def fullname(self):\r\n",
    "        print('Deleter running!')\r\n",
    "        self.first=None\r\n",
    "        self.last=None\r\n",
    "\r\n",
    "\r\n",
    "emp_1=Employee('Aritra','Roy')\r\n"
   ],
   "outputs": [],
   "metadata": {}
  },
  {
   "cell_type": "code",
   "execution_count": 117,
   "source": [
    "print(emp_1.fullname)\r\n",
    "del emp_1.fullname\r\n",
    "print(emp_1.fullname)"
   ],
   "outputs": [
    {
     "output_type": "stream",
     "name": "stdout",
     "text": [
      "Aritra Roy\n",
      "Deleter running!\n",
      "None None\n"
     ]
    }
   ],
   "metadata": {}
  }
 ],
 "metadata": {
  "orig_nbformat": 4,
  "language_info": {
   "name": "python",
   "version": "3.9.6",
   "mimetype": "text/x-python",
   "codemirror_mode": {
    "name": "ipython",
    "version": 3
   },
   "pygments_lexer": "ipython3",
   "nbconvert_exporter": "python",
   "file_extension": ".py"
  },
  "kernelspec": {
   "name": "python3",
   "display_name": "Python 3.9.6 64-bit"
  },
  "interpreter": {
   "hash": "23300995598eec4bcf6bd89cf02d1c3675e8b2616661418dbbf5580aa901878d"
  }
 },
 "nbformat": 4,
 "nbformat_minor": 2
}